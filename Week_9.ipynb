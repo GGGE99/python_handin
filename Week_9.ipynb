{
 "cells": [
  {
   "cell_type": "markdown",
   "metadata": {},
   "source": [
    "# week 9 Exercise Feature space\n",
    "\n",
    "## Ex 1\n",
    "`Data = 'https://think.cs.vt.edu/corgis/datasets/csv/cars/cars.csv'`\n",
    "### Download the data\n",
    "\n",
    "- Programatically download the data from the above link.\n",
    "- Import the data into a Pandas dataframe.\n",
    "- Show the head of the Pandas dataframe.\n",
    "\n",
    "### Feature engineering\n",
    "- Reduce the dataset by:\n",
    "  - Make == Honda\n",
    "  - Fueltype == Gasoline\n",
    "  - Remove outliers. Hint: `df[column name'] < df['column name'].quantile(0.90)`\n",
    "  - Only use 2 features: 'Fuel Information.Highway mpg' and 'Engine Information.Engine Statistics.Horsepower'\n",
    "  - Normalize data (reduce values to be between 0 and 1)\n",
    "  \n",
    "### Linear regression\n",
    "\n",
    "- Perform linear regression where x = horsepower and y = mpg\n",
    "- What is the coefficient (slope) of your model? What does this number mean?\n",
    "- According to your model, what is `y` when `x=1`.\n",
    "- Show the regression line on a scatterplot with the other datapoints."
   ]
  },
  {
   "cell_type": "code",
   "execution_count": 2,
   "metadata": {},
   "outputs": [
    {
     "data": {
      "text/html": [
       "<div>\n",
       "<style scoped>\n",
       "    .dataframe tbody tr th:only-of-type {\n",
       "        vertical-align: middle;\n",
       "    }\n",
       "\n",
       "    .dataframe tbody tr th {\n",
       "        vertical-align: top;\n",
       "    }\n",
       "\n",
       "    .dataframe thead th {\n",
       "        text-align: right;\n",
       "    }\n",
       "</style>\n",
       "<table border=\"1\" class=\"dataframe\">\n",
       "  <thead>\n",
       "    <tr style=\"text-align: right;\">\n",
       "      <th></th>\n",
       "      <th>Dimensions.Height,\"Dimensions.Length\",\"Dimensions.Width\",\"Engine Information.Driveline\",\"Engine Information.Engine Type\",\"Engine Information.Hybrid\",\"Engine Information.Number of Forward Gears\",\"Engine Information.Transmission\",\"Fuel Information.City mpg\",\"Fuel Information.Fuel Type\",\"Fuel Information.Highway mpg\",\"Identification.Classification\",\"Identification.ID\",\"Identification.Make\",\"Identification.Model Year\",\"Identification.Year\",\"Engine Information.Engine Statistics.Horsepower\",\"Engine Information.Engine Statistics.Torque\"</th>\n",
       "    </tr>\n",
       "  </thead>\n",
       "  <tbody>\n",
       "    <tr>\n",
       "      <th>0</th>\n",
       "      <td>140,\"143\",\"202\",\"All-wheel drive\",\"Audi 3.2L 6...</td>\n",
       "    </tr>\n",
       "    <tr>\n",
       "      <th>1</th>\n",
       "      <td>140,\"143\",\"202\",\"Front-wheel drive\",\"Audi 2.0L...</td>\n",
       "    </tr>\n",
       "    <tr>\n",
       "      <th>2</th>\n",
       "      <td>140,\"143\",\"202\",\"Front-wheel drive\",\"Audi 2.0L...</td>\n",
       "    </tr>\n",
       "    <tr>\n",
       "      <th>3</th>\n",
       "      <td>140,\"143\",\"202\",\"All-wheel drive\",\"Audi 2.0L 4...</td>\n",
       "    </tr>\n",
       "    <tr>\n",
       "      <th>4</th>\n",
       "      <td>140,\"143\",\"202\",\"All-wheel drive\",\"Audi 2.0L 4...</td>\n",
       "    </tr>\n",
       "    <tr>\n",
       "      <th>...</th>\n",
       "      <td>...</td>\n",
       "    </tr>\n",
       "    <tr>\n",
       "      <th>5071</th>\n",
       "      <td>13,\"253\",\"201\",\"Front-wheel drive\",\"Honda 3.5L...</td>\n",
       "    </tr>\n",
       "    <tr>\n",
       "      <th>5072</th>\n",
       "      <td>141,\"249\",\"108\",\"All-wheel drive\",\"Lamborghini...</td>\n",
       "    </tr>\n",
       "    <tr>\n",
       "      <th>5073</th>\n",
       "      <td>160,\"249\",\"108\",\"All-wheel drive\",\"Lamborghini...</td>\n",
       "    </tr>\n",
       "    <tr>\n",
       "      <th>5074</th>\n",
       "      <td>200,\"210\",\"110\",\"Rear-wheel drive\",\"BMW 3.0L 6...</td>\n",
       "    </tr>\n",
       "    <tr>\n",
       "      <th>5075</th>\n",
       "      <td>200,\"94\",\"110\",\"Rear-wheel drive\",\"BMW 3.0L 6 ...</td>\n",
       "    </tr>\n",
       "  </tbody>\n",
       "</table>\n",
       "<p>5076 rows × 1 columns</p>\n",
       "</div>"
      ],
      "text/plain": [
       "     Dimensions.Height,\"Dimensions.Length\",\"Dimensions.Width\",\"Engine Information.Driveline\",\"Engine Information.Engine Type\",\"Engine Information.Hybrid\",\"Engine Information.Number of Forward Gears\",\"Engine Information.Transmission\",\"Fuel Information.City mpg\",\"Fuel Information.Fuel Type\",\"Fuel Information.Highway mpg\",\"Identification.Classification\",\"Identification.ID\",\"Identification.Make\",\"Identification.Model Year\",\"Identification.Year\",\"Engine Information.Engine Statistics.Horsepower\",\"Engine Information.Engine Statistics.Torque\"\n",
       "0     140,\"143\",\"202\",\"All-wheel drive\",\"Audi 3.2L 6...                                                                                                                                                                                                                                                                                                                                                                                                                                                                                                     \n",
       "1     140,\"143\",\"202\",\"Front-wheel drive\",\"Audi 2.0L...                                                                                                                                                                                                                                                                                                                                                                                                                                                                                                     \n",
       "2     140,\"143\",\"202\",\"Front-wheel drive\",\"Audi 2.0L...                                                                                                                                                                                                                                                                                                                                                                                                                                                                                                     \n",
       "3     140,\"143\",\"202\",\"All-wheel drive\",\"Audi 2.0L 4...                                                                                                                                                                                                                                                                                                                                                                                                                                                                                                     \n",
       "4     140,\"143\",\"202\",\"All-wheel drive\",\"Audi 2.0L 4...                                                                                                                                                                                                                                                                                                                                                                                                                                                                                                     \n",
       "...                                                 ...                                                                                                                                                                                                                                                                                                                                                                                                                                                                                                     \n",
       "5071  13,\"253\",\"201\",\"Front-wheel drive\",\"Honda 3.5L...                                                                                                                                                                                                                                                                                                                                                                                                                                                                                                     \n",
       "5072  141,\"249\",\"108\",\"All-wheel drive\",\"Lamborghini...                                                                                                                                                                                                                                                                                                                                                                                                                                                                                                     \n",
       "5073  160,\"249\",\"108\",\"All-wheel drive\",\"Lamborghini...                                                                                                                                                                                                                                                                                                                                                                                                                                                                                                     \n",
       "5074  200,\"210\",\"110\",\"Rear-wheel drive\",\"BMW 3.0L 6...                                                                                                                                                                                                                                                                                                                                                                                                                                                                                                     \n",
       "5075  200,\"94\",\"110\",\"Rear-wheel drive\",\"BMW 3.0L 6 ...                                                                                                                                                                                                                                                                                                                                                                                                                                                                                                     \n",
       "\n",
       "[5076 rows x 1 columns]"
      ]
     },
     "execution_count": 2,
     "metadata": {},
     "output_type": "execute_result"
    }
   ],
   "source": [
    "import pandas as pd\n",
    "url = 'https://think.cs.vt.edu/corgis/datasets/csv/cars/cars.csv'\n",
    "data = pd.read_csv(url, sep=';')\n",
    "data"
   ]
  },
  {
   "cell_type": "code",
   "execution_count": null,
   "metadata": {},
   "outputs": [],
   "source": []
  },
  {
   "cell_type": "code",
   "execution_count": null,
   "metadata": {},
   "outputs": [],
   "source": []
  },
  {
   "cell_type": "code",
   "execution_count": null,
   "metadata": {},
   "outputs": [],
   "source": []
  }
 ],
 "metadata": {
  "kernelspec": {
   "display_name": "Python 3",
   "language": "python",
   "name": "python3"
  },
  "language_info": {
   "codemirror_mode": {
    "name": "ipython",
    "version": 3
   },
   "file_extension": ".py",
   "mimetype": "text/x-python",
   "name": "python",
   "nbconvert_exporter": "python",
   "pygments_lexer": "ipython3",
   "version": "3.7.6"
  }
 },
 "nbformat": 4,
 "nbformat_minor": 4
}
