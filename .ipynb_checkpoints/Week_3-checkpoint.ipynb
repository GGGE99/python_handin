{
 "cells": [
  {
   "cell_type": "markdown",
   "metadata": {},
   "source": [
    "# Exercise for the 3rd course week\n",
    "\n",
    "## Ex 1 Classes\n",
    "1. Create 3 classes: Student, DataSheet and Course\n",
    "2. A student has a data_sheet and a data_sheet has multiple courses in particular order\n",
    "3. Each course has name, classroom, teacher, ETCS and optional grade if course is taken.\n",
    "4. In Student create __init__() so that a Student can be initiated with name, gender, data_sheet and image_url\n",
    "5. In DataSheet create a method to get_grades_as_list() \n",
    "6. In student create a method: get_avg_grade()\n",
    "7. Create a function that can generate n number of students with random: name, gender, courses (from a fixed list of course names), grades, img_url\n",
    "   1. Let the function write the result to a csv file with format stud_name, course_name, teacher, ects, classroom, grade, img_url\n",
    "7. Read student data into a list of Students from a csv file: \n",
    "   1. loop through the list and print each student with name, img_url and avg_grade.\n",
    "   2. sort the list by avg_grade\n",
    "   3. create a bar chart with student_name on x and avg_grade on y-axis\n",
    "8. Make a method on Student class that can show progression of the study in % (add up ECTS from all passed courses divided by total of 150 total points (equivalent to 5 semesters))\n",
    "9. Show a bar chart of distribution of study progression on x-axis and number of students in each category on y-axis. (e.g. make 10 categories from 0-100%)\n",
    "\n",
    "Extra: Make the Datasheet class iterable so that next(data_sheet) will return the next course in the list\n",
    "\n",
    "## Ex 2 Exceptions (extra)\n",
    "1. Create a function that can take a list of students and return the 3 students closest to completing their study.\n",
    "2. If list is shorter than 3 raise your own custom exception (NotEnoughStudentsException)\n",
    "3. Create another function that can create a csv file with 3 students closest to completion\n",
    "   1. If an exception is raised write an appropriate message to the file\n",
    "\n",
    "## Ex 3 Plotting (extra)\n",
    "1. Create a function that can take a list of students and show a pie chart of how students are distributed in ECTS percentage categories (10%, 20%, ...)\n",
    "2. create a function that can take a list of students and show how many students have taken each course (bar chart)\n",
    "   1. create a method on student that can return a list of courses\n",
    "3. make the figure show males and females in different colors for each course (display 2 datasets in same figure)"
   ]
  },
  {
   "cell_type": "markdown",
   "metadata": {},
   "source": [
    "# Ex 1 Classes"
   ]
  },
  {
   "cell_type": "code",
   "execution_count": 1,
   "metadata": {},
   "outputs": [],
   "source": [
    "from modules.Week3 import student\n",
    "student.make_students(50)"
   ]
  },
  {
   "cell_type": "code",
   "execution_count": 2,
   "metadata": {},
   "outputs": [
    {
     "name": "stdout",
     "output_type": "stream",
     "text": [
      "[' None', ' 2', ' 2', ' None', ' 12', ' 2', ' None', ' 10', ' None', ' None', ' None', ' None', ' None', ' 2', ' None']\n",
      "2.0\n"
     ]
    }
   ],
   "source": [
    "students = student.read_students(False)\n",
    "print(students[0].data_sheet.get_grades())\n",
    "print(students[0].get_avg_grade())"
   ]
  },
  {
   "cell_type": "code",
   "execution_count": 3,
   "metadata": {},
   "outputs": [
    {
     "name": "stdout",
     "output_type": "stream",
     "text": [
      "Mala 2.0\n",
      "Leland 2.0\n",
      "Janeta 2.6666666666666665\n",
      "Melamie 3.0\n",
      "Malachi 3.0\n",
      "Lombard 3.1666666666666665\n",
      "Jamison 3.2\n",
      "Simon 3.25\n",
      "Britt 3.3333333333333335\n",
      "Elita 3.375\n",
      "Daffie 3.4\n",
      "Randene 3.4285714285714284\n",
      "Estel 3.5\n",
      "Tye 3.6\n",
      "Esma 3.6\n",
      "Terencio 3.6666666666666665\n",
      "Dahlia 3.6666666666666665\n",
      "Jacquelynn 3.75\n",
      "Adlai 3.8\n",
      "Dane 4.0\n",
      "Garnette 4.0\n",
      "Ivonne 4.25\n",
      "Gilberte 4.285714285714286\n",
      "Leoline 4.333333333333333\n",
      "Fayette 4.333333333333333\n",
      "Kynthia 4.333333333333333\n",
      "Reginauld 4.333333333333333\n",
      "Neils 4.4\n",
      "Ban 4.4\n",
      "Faulkner 4.5\n",
      "Stella 4.5\n",
      "Gerry 4.625\n",
      "Veronica 4.666666666666667\n",
      "Brianne 4.714285714285714\n",
      "Ariadne 4.8\n",
      "Dall 4.8\n",
      "Fairlie 4.833333333333333\n",
      "Rani 5.0\n",
      "Gwyn 5.0\n",
      "Lonna 5.0\n",
      "Malachi 5.0\n",
      "Dee 5.142857142857143\n",
      "Pascal 5.2\n",
      "Urson 5.2\n",
      "Bessie 5.333333333333333\n",
      "Elane 5.333333333333333\n",
      "Leticia 5.5\n",
      "Dee 6.0\n",
      "Stefa 6.0\n",
      "Bliss 6.25\n"
     ]
    }
   ],
   "source": [
    "for stud in students: print(stud.name, stud.get_avg_grade())"
   ]
  },
  {
   "cell_type": "code",
   "execution_count": 4,
   "metadata": {},
   "outputs": [
    {
     "name": "stdout",
     "output_type": "stream",
     "text": [
      "['Mala', 'Leland', 'Janeta', 'Melamie', 'Malachi', 'Lombard', 'Jamison', 'Simon', 'Britt', 'Elita', 'Daffie', 'Randene', 'Estel', 'Tye', 'Esma', 'Terencio', 'Dahlia', 'Jacquelynn', 'Adlai', 'Dane', 'Garnette', 'Ivonne', 'Gilberte', 'Leoline', 'Fayette', 'Kynthia', 'Reginauld', 'Neils', 'Ban', 'Faulkner', 'Stella', 'Gerry', 'Veronica', 'Brianne', 'Ariadne', 'Dall', 'Fairlie', 'Rani', 'Gwyn', 'Lonna', 'Malachi', 'Dee', 'Pascal', 'Urson', 'Bessie', 'Elane', 'Leticia', 'Dee', 'Stefa', 'Bliss']\n"
     ]
    },
    {
     "data": {
      "image/png": "[encoded data removed]",
      "text/plain": [
       "<Figure size 432x288 with 1 Axes>"
      ]
     },
     "metadata": {
      "needs_background": "light"
     },
     "output_type": "display_data"
    }
   ],
   "source": [
    "import matplotlib.pyplot as plt\n",
    "studs = [{s.name, s.get_avg_grade()} for s in students]\n",
    "fig = plt.figure()\n",
    "\n",
    "ax = fig.add_axes([0,0,1,1])\n",
    "grades = [s.get_avg_grade() for s in students]\n",
    "stud_names = [s.name for s in students]\n",
    "ax.bar(stud_names, grades)\n",
    "\n",
    "print(stud_names)\n",
    "# \n",
    "# grades = ['C', 'C++', 'Java', 'Python', 'PHP']\n",
    "# stud_names = [s.name for s in students]\n",
    "# \n",
    "plt.show()"
   ]
  },
  {
   "cell_type": "code",
   "execution_count": 5,
   "metadata": {},
   "outputs": [
    {
     "name": "stdout",
     "output_type": "stream",
     "text": [
      "46.666666666666664%\n"
     ]
    }
   ],
   "source": [
    "print(str(students[0].get_progression()) + '%')"
   ]
  },
  {
   "cell_type": "code",
   "execution_count": 10,
   "metadata": {},
   "outputs": [
    {
     "data": {
      "image/png": "[encoded data removed]",
      "text/plain": [
       "<Figure size 432x288 with 1 Axes>"
      ]
     },
     "metadata": {
      "needs_background": "light"
     },
     "output_type": "display_data"
    }
   ],
   "source": [
    "studs = [stud.get_progression() for stud in students]\n",
    "\n",
    "procent = [0,10,20,30,40,50,60,70,80,90,100]\n",
    "\n",
    "plt.hist(studs, procent, histtype='bar', rwidth=0.8)\n",
    "\n",
    "plt.xlabel('Progression in %')\n",
    "plt.ylabel('Number of students')\n",
    "plt.title('Studen progression')\n",
    "plt.show()"
   ]
  },
  {
   "cell_type": "markdown",
   "metadata": {},
   "source": [
    "# Ex 3"
   ]
  },
  {
   "cell_type": "code",
   "execution_count": 32,
   "metadata": {},
   "outputs": [
    {
     "ename": "IndexError",
     "evalue": "list index out of range",
     "output_type": "error",
     "traceback": [
      "\u001b[0;31m---------------------------------------------------------------------------\u001b[0m",
      "\u001b[0;31mIndexError\u001b[0m                                Traceback (most recent call last)",
      "\u001b[0;32m<ipython-input-32-86453639b6f9>\u001b[0m in \u001b[0;36m<module>\u001b[0;34m\u001b[0m\n\u001b[1;32m     15\u001b[0m \u001b[0;31m#     return plt\u001b[0m\u001b[0;34m\u001b[0m\u001b[0;34m\u001b[0m\u001b[0;34m\u001b[0m\u001b[0m\n\u001b[1;32m     16\u001b[0m \u001b[0;34m\u001b[0m\u001b[0m\n\u001b[0;32m---> 17\u001b[0;31m \u001b[0mmake_char\u001b[0m\u001b[0;34m(\u001b[0m\u001b[0mstudents\u001b[0m\u001b[0;34m)\u001b[0m\u001b[0;34m\u001b[0m\u001b[0;34m\u001b[0m\u001b[0m\n\u001b[0m",
      "\u001b[0;32m<ipython-input-32-86453639b6f9>\u001b[0m in \u001b[0;36mmake_char\u001b[0;34m(students_arr)\u001b[0m\n\u001b[1;32m      3\u001b[0m     \u001b[0mres\u001b[0m \u001b[0;34m=\u001b[0m \u001b[0;34m[\u001b[0m\u001b[0;34m]\u001b[0m\u001b[0;34m\u001b[0m\u001b[0;34m\u001b[0m\u001b[0m\n\u001b[1;32m      4\u001b[0m     \u001b[0;32mfor\u001b[0m \u001b[0mstud\u001b[0m \u001b[0;32min\u001b[0m \u001b[0mstudents_arr\u001b[0m\u001b[0;34m:\u001b[0m\u001b[0;34m\u001b[0m\u001b[0;34m\u001b[0m\u001b[0m\n\u001b[0;32m----> 5\u001b[0;31m        \u001b[0mres\u001b[0m\u001b[0;34m[\u001b[0m\u001b[0mint\u001b[0m\u001b[0;34m(\u001b[0m\u001b[0mstud\u001b[0m\u001b[0;34m.\u001b[0m\u001b[0mget_progression\u001b[0m\u001b[0;34m(\u001b[0m\u001b[0;34m)\u001b[0m \u001b[0;34m/\u001b[0m \u001b[0;36m10\u001b[0m\u001b[0;34m)\u001b[0m\u001b[0;34m]\u001b[0m \u001b[0;34m+=\u001b[0m\u001b[0;36m1\u001b[0m\u001b[0;34m\u001b[0m\u001b[0;34m\u001b[0m\u001b[0m\n\u001b[0m\u001b[1;32m      6\u001b[0m \u001b[0;34m\u001b[0m\u001b[0m\n\u001b[1;32m      7\u001b[0m     \u001b[0mprint\u001b[0m\u001b[0;34m(\u001b[0m\u001b[0marr\u001b[0m\u001b[0;34m)\u001b[0m\u001b[0;34m\u001b[0m\u001b[0;34m\u001b[0m\u001b[0m\n",
      "\u001b[0;31mIndexError\u001b[0m: list index out of range"
     ]
    }
   ],
   "source": [
    "def make_char(students_arr):\n",
    "    procent = [0,10,20,30,40,50,60,70,80,90,100]\n",
    "    res = [0 for v in range(len(procent))]\n",
    "    for stud in students_arr:\n",
    "       res[int(stud.get_progression() / 10)] +=1 \n",
    "\n",
    "    print(arr)\n",
    "#     studs = [stud.get_progression() for stud in students_arr]\n",
    "\n",
    "#     plt.hist(studs, procent, histtype='pie', rwidth=0.8)\n",
    "\n",
    "#     plt.xlabel('Progression in %')\n",
    "#     plt.ylabel('Number of students')\n",
    "#     plt.title('Studen progression')\n",
    "#     return plt\n",
    "\n",
    "make_char(students)"
   ]
  }
 ],
 "metadata": {
  "kernelspec": {
   "display_name": "Python 3",
   "language": "python",
   "name": "python3"
  },
  "language_info": {
   "codemirror_mode": {
    "name": "ipython",
    "version": 3
   },
   "file_extension": ".py",
   "mimetype": "text/x-python",
   "name": "python",
   "nbconvert_exporter": "python",
   "pygments_lexer": "ipython3",
   "version": "3.7.6"
  }
 },
 "nbformat": 4,
 "nbformat_minor": 4
}
