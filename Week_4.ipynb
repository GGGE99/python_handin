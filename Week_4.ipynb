{
 "cells": [
  {
   "cell_type": "markdown",
   "metadata": {},
   "source": [
    "# Week 4 Exercise with Numpy\n",
    "\n",
    "Use only numpy (not pandas) in these exercises\n",
    "#### Exercise 1\n",
    "1. Open the file './data/befkbhalderstatkode.csv'\n",
    "2. Turn the csv file into a numpy ndarray with `np.genfromtxt(filename, delimiter=',', dtype=np.uint, skip_header=1)`\n",
    "3. Using this data:\n",
    "```python\n",
    "neighb = {1: 'Indre By', 2: 'Østerbro', 3: 'Nørrebro', 4: 'Vesterbro/Kgs. Enghave', \n",
    "          5: 'Valby', 6: 'Vanløse', 7: 'Brønshøj-Husum', 8: 'Bispebjerg', 9: 'Amager Øst', \n",
    "          10: 'Amager Vest', 99: 'Udenfor'}\n",
    "```\n",
    "Find out how many people lived in each of the 11 areas in 2015\n",
    "4. Make a bar plot to show the size of each city area from the smallest to the largest\n",
    "5. Create a boolean mask to find out how many people above 65 years lived in Copenhagen in 2015\n",
    "6. How many of those were from the other nordic countries (not dk)\n",
    "7. Make a line plot showing the changes of number of people in vesterbro and østerbro from 1992 to 2015\n",
    "\n"
   ]
  },
  {
   "cell_type": "code",
   "execution_count": 1,
   "metadata": {},
   "outputs": [],
   "source": [
    "import numpy as np\n",
    "data = None\n",
    "#1 + 2\n",
    "with open ('../data/befkbhalderstatkode.csv') as file:\n",
    "    data = np.genfromtxt(file, delimiter=',', dtype=np.uint, skip_header=1)\n",
    "    \n",
    "neighb = {1: 'Indre By', 2: 'Østerbro', 3: 'Nørrebro', 4: 'Vesterbro/Kgs. Enghave', \n",
    "       5: 'Valby', 6: 'Vanløse', 7: 'Brønshøj-Husum', 8: 'Bispebjerg', 9: 'Amager Øst', \n",
    "       10: 'Amager Vest', 99: 'Udenfor'}"
   ]
  },
  {
   "cell_type": "code",
   "execution_count": 2,
   "metadata": {
    "scrolled": true
   },
   "outputs": [
    {
     "data": {
      "text/plain": [
       "{'Indre By': 51937,\n",
       " 'Østerbro': 75113,\n",
       " 'Nørrebro': 78802,\n",
       " 'Vesterbro/Kgs. Enghave': 61623,\n",
       " 'Valby': 51727,\n",
       " 'Vanløse': 39537,\n",
       " 'Brønshøj-Husum': 43908,\n",
       " 'Bispebjerg': 53604,\n",
       " 'Amager Øst': 55205,\n",
       " 'Amager Vest': 64967,\n",
       " 'Udenfor': 3872}"
      ]
     },
     "execution_count": 2,
     "metadata": {},
     "output_type": "execute_result"
    }
   ],
   "source": [
    "#3\n",
    "mask_år = data[:,0] == 2015\n",
    "år = data[mask_år]\n",
    "people = {}\n",
    "\n",
    "for part in neighb:\n",
    "    people[neighb[part]] = år[år[:,1] == part][:,-1].sum()\n",
    "\n",
    "people"
   ]
  },
  {
   "cell_type": "code",
   "execution_count": 3,
   "metadata": {
    "scrolled": false
   },
   "outputs": [
    {
     "data": {
      "image/png": "[encoded data removed]",
      "text/plain": [
       "<Figure size 1440x720 with 1 Axes>"
      ]
     },
     "metadata": {
      "needs_background": "light"
     },
     "output_type": "display_data"
    }
   ],
   "source": [
    "#4\n",
    "import matplotlib.pylab as plt\n",
    "\n",
    "sorted_as_tuples = sorted(people.items(), key=lambda item: item[1])\n",
    "people = {k: v for k, v in sorted_as_tuples}\n",
    "\n",
    "plt.figure(figsize=(20, 10))\n",
    "plt.bar(people.keys(), people.values())\n",
    "plt.show()"
   ]
  },
  {
   "cell_type": "code",
   "execution_count": 6,
   "metadata": {},
   "outputs": [
    {
     "name": "stdout",
     "output_type": "stream",
     "text": [
      "Over 65: 55750\n",
      "fra norden: 608\n"
     ]
    }
   ],
   "source": [
    "#5\n",
    "over_65 = data[(data[:, 2] > 65)& mask_år]\n",
    "\n",
    "print('Over 65:', over_65[:, -1].sum())\n",
    "\n",
    "#6\n",
    "norden = [5101,5104,5106,5107,5110,5120,5901,5902]\n",
    "# print(p[norden.__contains__(p[:, 3])][-1].sum())\n",
    "\n",
    "\n",
    "print('fra norden:', over_65[np.in1d(over_65[:, 3], norden)][:, -1].sum())\n"
   ]
  },
  {
   "cell_type": "code",
   "execution_count": null,
   "metadata": {
    "scrolled": false
   },
   "outputs": [],
   "source": [
    "# 7\n",
    "years = np.arange(1992,2016)\n",
    "\n",
    "cities = [2,3]\n",
    "for c in range(len(cities)):\n",
    "    years_dict = {}\n",
    "    for year in years:\n",
    "        years_dict[year] = data[(data[:,0] == year) & (data[:, 1] == cities[c])][:, -1].sum()\n",
    "    cities[c] = years_dict\n",
    "\n",
    "x,y = zip(*sorted(cities[0].items()))\n",
    "x1,y1 = zip(*sorted(cities[1].items()))\n",
    "\n",
    "plt.figure(figsize=(20, 10))\n",
    "plt.plot(x,y, label='Østerbro')\n",
    "plt.plot(x1,y1, label='Nørrebro')\n",
    "plt.legend()\n",
    "plt.show()"
   ]
  },
  {
   "cell_type": "markdown",
   "metadata": {},
   "source": [
    "# Exercise 2  A bit harder (Extra only if you have the time)\n",
    "\n",
    "1. From \"Danmarks Statistik\" download demographic data here:\n",
    "https://api.statbank.dk/v1/data/FOLK1A/CSV?valuePresentation=Code&delimiter=Semicolon&OMR%C3%85DE=000%2C084%2C147%2C400%2C085%2C083%2C082%2C081%2C851%2C461%2C561%2C751&K%C3%98N=1%2C2&ALDER=0%2C1%2C2%2C3%2C4%2C5%2C6%2C7%2C8%2C9%2C10%2C11%2C12%2C13%2C14%2C15%2C16%2C17%2C18%2C19%2C20%2C21%2C22%2C23%2C24%2C25%2C26%2C27%2C28%2C29%2C30%2C31%2C32%2C33%2C34%2C35%2C36%2C37%2C3%2C39%2C40%2C41%2C42%2C43%2C44%2C45%2C46%2C47%2C48%2C49%2C50%2C51%2C52%2C53%2C54%2C55%2C56%2C57%2C58%2C59%2C60%2C61%2C62%2C63%2C64%2C65%2C66%2C67%2C68%2C69%2C70%2C71%2C72%2C73%2C74%2C75%2C76%2C77%2C78%2C79%2C80%2C81%2C82%2C83%2C84%2C85%2C86%2C87%2C88%2C89%2C90%2C91%2C92%2C93%2C94%2C95%2C96%2C97%2C98%2C99%2C100&Tid=2008K1%2C2009K1%2C2010K1%2C2011K1%2C2012K1%2C2013K1%2C2014K1%2C2015K1%2C2016K1%2C2017K1%2C2018K1%2C2019K1%2C2020K1\n",
    "\n",
    "\n",
    "2. clean up the data so it only contains numbers. (If you find this hard to do then Pandas can help (we will cover it next week)\n",
    "```python\n",
    "import pandas as pd \n",
    "url = 'url from above here'\n",
    "df = pd.read_csv(url,sep=';')\n",
    "df['TID'] = df['TID'].map(lambda x:x[:-2]) #cut the last 2 characters\n",
    "df.to_csv('demografic_cleaned.csv',header=False, index=False)\n",
    "```\n",
    "Now you have csv data with columns: OMRÅDE;KØN;ALDER;TID;INDHOLD\n",
    "3. Now load your demographic data with numpy. (Hint: use np.loadtxt() with dtype and delimiter).\n",
    "4. Use file: BY_KODER_demographics.csv to get cities from the city codes\n",
    "5. Now find out which city in 2020 has the highest percentage of men (gender code 1),(Hint: create a function to return summed up data by city code ala: def summed_by_city(city_code): returning pct_male \n",
    "6. Create a line chart with 5 lines showing population changes in the 5 largest cities from 2008 to 2020"
   ]
  },
  {
   "cell_type": "code",
   "execution_count": null,
   "metadata": {},
   "outputs": [],
   "source": [
    "# 1 og 2\n",
    "import csv\n",
    "\n",
    "with open ('./data/FOLK1A.csv') as file, open(\"demografic_cleaned.csv\", \"w\") as outfile:\n",
    "    csv_reader = csv.reader(file, delimiter=';')\n",
    "    next(csv_reader, None)\n",
    "    for row in csv_reader:\n",
    "        row[3] = row[3][0: -2]\n",
    "        outfile.writelines(';'.join(row) +'\\n')"
   ]
  },
  {
   "cell_type": "code",
   "execution_count": null,
   "metadata": {},
   "outputs": [],
   "source": [
    "# 3\n",
    "with open ('./demografic_cleaned.csv') as file:\n",
    "    data = np.loadtxt(file, delimiter=';', dtype=np.uint)"
   ]
  },
  {
   "cell_type": "code",
   "execution_count": null,
   "metadata": {},
   "outputs": [],
   "source": [
    "# 4\n",
    "with open ('../data/DKstat_bykoder.csv') as f:\n",
    "    byer = np.genfromtxt(f, delimiter=';', dtype=['<i8','U15'])\n",
    "\n"
   ]
  },
  {
   "cell_type": "code",
   "execution_count": null,
   "metadata": {},
   "outputs": [],
   "source": [
    "#5\n",
    "import math\n",
    "mask_men_2020 = data[(data[:,1] == 1) & (data[:, 3] == 2020)]\n",
    "mask_women_2020 = data[(data[:,1] == 2) & (data[:, 3] == 2020)]\n",
    "\n",
    "# res = dict({by[1].strip(' '): mask_men_2020[mask_men_2020[:, 0] == 0][:, -1].sum() for by in byer})\n",
    "# print(res)\n",
    "\n",
    "def summed_by_city(city_code):\n",
    "    men = mask_men_2020[mask_men_2020[:, 0] == city_code][:, -1].sum()\n",
    "    women = mask_women_2020[mask_women_2020[:, 0] == city_code][:, -1].sum()\n",
    "    res = men/(women + men) * 100\n",
    "    return res\n",
    "    \n",
    "byer_p_men = {}\n",
    "for by in byer:\n",
    "    res = summed_by_city(by[0])\n",
    "    if not math.isnan(res):\n",
    "        byer_p_men[by[1]] = res\n",
    "    \n",
    "sorted_as_tuples = sorted(byer_p_men.items(), key=lambda item: item[1])\n",
    "byer_p_men = {k: v for k, v in sorted_as_tuples}\n",
    "byer_p_men\n",
    "# mask_men_2020[mask_men_2020[:,0] == 0]"
   ]
  },
  {
   "cell_type": "code",
   "execution_count": null,
   "metadata": {},
   "outputs": [],
   "source": [
    "#6\n",
    "import random as random \n",
    "#Create a line chart with 5 lines showing population changes in the 5 largest cities from 2008 to 2020  \n",
    "def peopel_in_city(city_code):\n",
    "    res = {year: data[(data[:, 0] == city_code) & (data[: , 3] == year)][:, 4].sum() for year in np.arange(2008, 2021)}\n",
    "    return res\n",
    "\n",
    "personer_i_byer = {by[1].strip(' '): peopel_in_city(by[0]) for by in byer if by[0] in byer_i_list}\n",
    "print(personer_i_byer)\n",
    "ikke_byer = ['Hele-landet', 'Region-Hovedst', 'Region-Midtjyl', 'Region-Syddanm', 'Region-Sjællan', 'Region-Nordjyl']\n",
    "for ikke_by in ikke_byer: personer_i_byer.pop(ikke_by)\n",
    "\n",
    "#sort list\n",
    "sorted_as_tuples = sorted(personer_i_byer.items(), key=lambda item: item[1][2020], reverse=True)\n",
    "sorted_as_tuples = sorted_as_tuples[:5]\n",
    "\n",
    "plt.figure(figsize=(20,10))\n",
    "for k, v in sorted_as_tuples:\n",
    "    print(k,v)\n",
    "    plt.plot(list(v.keys()),list(v.values()), marker='', color=[random.random() ,random.random() ,random.random() ], linewidth=2, label=k)\n",
    "\n",
    "plt.legend()"
   ]
  }
 ],
 "metadata": {
  "kernelspec": {
   "display_name": "Python 3",
   "language": "python",
   "name": "python3"
  },
  "language_info": {
   "codemirror_mode": {
    "name": "ipython",
    "version": 3
   },
   "file_extension": ".py",
   "mimetype": "text/x-python",
   "name": "python",
   "nbconvert_exporter": "python",
   "pygments_lexer": "ipython3",
   "version": "3.7.6"
  }
 },
 "nbformat": 4,
 "nbformat_minor": 4
}
