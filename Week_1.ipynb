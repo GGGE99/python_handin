{
 "cells": [
  {
   "cell_type": "markdown",
   "metadata": {},
   "source": [
    "# Week 1 handin"
   ]
  },
  {
   "cell_type": "markdown",
   "metadata": {},
   "source": [
    "## 01 Assignment\n",
    "1. Create 5 list comprehensions to solve the following 5 problems:\n",
    "  1. Iterate a list of names to return a list of the names starting with H\n",
    "  2. In one line create a list of the numbers 1-100 to the power of 3\n",
    "  3. Iterate a list of names to create a list of tuples where the tuples first value is the length of the name and the second is the name\n",
    "  4. Iterate over each character in a string and get only those that are nummeric\n",
    "  5. Using only a list comprehension wrapped in set() get all possible combination from throwing 2 dice (hint use 2 for loops in a single list comprehension)\n",
    "\n",
    "2. Create 2 dictionary comprehensions to solve the following:\n",
    "  1. Iterate a list of names and create a dictionary where key is the name and value is the length of the name\n",
    "  2. Iterate a list of numbers and create a dictionary with {key:value} being {number:squareroot_of_number}\n",
    "\n",
    "3. Extra assignment (This one goes beyond what is covered in the course notebooks. So only do it if you want an extra challenge).\n",
    "  - Progammatically using loops create a small program to produce a dictionary with all the 2 dice throw combinations as keys and their likelyhood in percent as values"
   ]
  },
  {
   "cell_type": "markdown",
   "metadata": {},
   "source": [
    "## 02 Status\n",
    "Here is a status on the handin. How far you got. What is implemented and what is not"
   ]
  },
  {
   "cell_type": "markdown",
   "metadata": {},
   "source": [
    "## 03 Solution part 1"
   ]
  },
  {
   "cell_type": "code",
   "execution_count": 1,
   "metadata": {},
   "outputs": [
    {
     "data": {
      "text/plain": [
       "['Henry']"
      ]
     },
     "execution_count": 1,
     "metadata": {},
     "output_type": "execute_result"
    }
   ],
   "source": [
    "#A\n",
    "names = list([\"Liam\",\"Noah\",\"Oliver\",\"William\",\"Elijah\",\"James\",\"Benjamin\",\"Lucas\",\"Mason\",\"Ethan\",\"Alexander\",\"Henry\",\"Jacob\",\"Michael\",\"Daniel\",\"Logan\",\"Jackson\",\"Sebastian\",\"Jack\",\"Aiden\",\"Owen\",\"Samuel\",\"Matthew\",\"Joseph\",\"Levi\",\"Mateo\",\"David\",\"John\",\"Wyatt\",\"Carter\",\"Julian\",\"Luke\",\"Grayson\",\"Isaac\",\"Jayden\",\"Theodore\",\"Gabriel\",\"Anthony\",\"Dylan\",\"Leo\"])\n",
    "[n for n in names if n[0] == \"H\"]"
   ]
  },
  {
   "cell_type": "code",
   "execution_count": 2,
   "metadata": {},
   "outputs": [
    {
     "data": {
      "text/plain": [
       "[1,\n",
       " 8,\n",
       " 27,\n",
       " 64,\n",
       " 125,\n",
       " 216,\n",
       " 343,\n",
       " 512,\n",
       " 729,\n",
       " 1000,\n",
       " 1331,\n",
       " 1728,\n",
       " 2197,\n",
       " 2744,\n",
       " 3375,\n",
       " 4096,\n",
       " 4913,\n",
       " 5832,\n",
       " 6859,\n",
       " 8000,\n",
       " 9261,\n",
       " 10648,\n",
       " 12167,\n",
       " 13824,\n",
       " 15625,\n",
       " 17576,\n",
       " 19683,\n",
       " 21952,\n",
       " 24389,\n",
       " 27000,\n",
       " 29791,\n",
       " 32768,\n",
       " 35937,\n",
       " 39304,\n",
       " 42875,\n",
       " 46656,\n",
       " 50653,\n",
       " 54872,\n",
       " 59319,\n",
       " 64000,\n",
       " 68921,\n",
       " 74088,\n",
       " 79507,\n",
       " 85184,\n",
       " 91125,\n",
       " 97336,\n",
       " 103823,\n",
       " 110592,\n",
       " 117649,\n",
       " 125000,\n",
       " 132651,\n",
       " 140608,\n",
       " 148877,\n",
       " 157464,\n",
       " 166375,\n",
       " 175616,\n",
       " 185193,\n",
       " 195112,\n",
       " 205379,\n",
       " 216000,\n",
       " 226981,\n",
       " 238328,\n",
       " 250047,\n",
       " 262144,\n",
       " 274625,\n",
       " 287496,\n",
       " 300763,\n",
       " 314432,\n",
       " 328509,\n",
       " 343000,\n",
       " 357911,\n",
       " 373248,\n",
       " 389017,\n",
       " 405224,\n",
       " 421875,\n",
       " 438976,\n",
       " 456533,\n",
       " 474552,\n",
       " 493039,\n",
       " 512000,\n",
       " 531441,\n",
       " 551368,\n",
       " 571787,\n",
       " 592704,\n",
       " 614125,\n",
       " 636056,\n",
       " 658503,\n",
       " 681472,\n",
       " 704969,\n",
       " 729000,\n",
       " 753571,\n",
       " 778688,\n",
       " 804357,\n",
       " 830584,\n",
       " 857375,\n",
       " 884736,\n",
       " 912673,\n",
       " 941192,\n",
       " 970299,\n",
       " 1000000]"
      ]
     },
     "execution_count": 2,
     "metadata": {},
     "output_type": "execute_result"
    }
   ],
   "source": [
    "#B\n",
    "list([(i+1)**3 for i in range(100)])"
   ]
  },
  {
   "cell_type": "code",
   "execution_count": 3,
   "metadata": {},
   "outputs": [
    {
     "data": {
      "text/plain": [
       "[('Liam', 4),\n",
       " ('Noah', 4),\n",
       " ('Oliver', 6),\n",
       " ('William', 7),\n",
       " ('Elijah', 6),\n",
       " ('James', 5),\n",
       " ('Benjamin', 8),\n",
       " ('Lucas', 5),\n",
       " ('Mason', 5),\n",
       " ('Ethan', 5),\n",
       " ('Alexander', 9),\n",
       " ('Henry', 5),\n",
       " ('Jacob', 5),\n",
       " ('Michael', 7),\n",
       " ('Daniel', 6),\n",
       " ('Logan', 5),\n",
       " ('Jackson', 7),\n",
       " ('Sebastian', 9),\n",
       " ('Jack', 4),\n",
       " ('Aiden', 5),\n",
       " ('Owen', 4),\n",
       " ('Samuel', 6),\n",
       " ('Matthew', 7),\n",
       " ('Joseph', 6),\n",
       " ('Levi', 4),\n",
       " ('Mateo', 5),\n",
       " ('David', 5),\n",
       " ('John', 4),\n",
       " ('Wyatt', 5),\n",
       " ('Carter', 6),\n",
       " ('Julian', 6),\n",
       " ('Luke', 4),\n",
       " ('Grayson', 7),\n",
       " ('Isaac', 5),\n",
       " ('Jayden', 6),\n",
       " ('Theodore', 8),\n",
       " ('Gabriel', 7),\n",
       " ('Anthony', 7),\n",
       " ('Dylan', 5),\n",
       " ('Leo', 3)]"
      ]
     },
     "execution_count": 3,
     "metadata": {},
     "output_type": "execute_result"
    }
   ],
   "source": [
    "#C\n",
    "tup = [(n, len(n)) for n in names]\n",
    "tup"
   ]
  },
  {
   "cell_type": "code",
   "execution_count": 4,
   "metadata": {},
   "outputs": [
    {
     "name": "stdout",
     "output_type": "stream",
     "text": [
      "2\n",
      "1\n",
      "3\n",
      "1\n",
      "2\n",
      "2\n",
      "1\n",
      "1\n",
      "3\n",
      "2\n",
      "2\n",
      "2\n",
      "1\n"
     ]
    }
   ],
   "source": [
    "#D\n",
    "s = \"adad21312asd211asd322sad21\"\n",
    "for c in s: \n",
    "    if c.isnumeric():\n",
    "        print(c)"
   ]
  },
  {
   "cell_type": "code",
   "execution_count": 5,
   "metadata": {},
   "outputs": [
    {
     "data": {
      "text/plain": [
       "{'1 : 1',\n",
       " '1 : 2',\n",
       " '1 : 3',\n",
       " '1 : 4',\n",
       " '1 : 5',\n",
       " '1 : 6',\n",
       " '2 : 1',\n",
       " '2 : 2',\n",
       " '2 : 3',\n",
       " '2 : 4',\n",
       " '2 : 5',\n",
       " '2 : 6',\n",
       " '3 : 1',\n",
       " '3 : 2',\n",
       " '3 : 3',\n",
       " '3 : 4',\n",
       " '3 : 5',\n",
       " '3 : 6',\n",
       " '4 : 1',\n",
       " '4 : 2',\n",
       " '4 : 3',\n",
       " '4 : 4',\n",
       " '4 : 5',\n",
       " '4 : 6',\n",
       " '5 : 1',\n",
       " '5 : 2',\n",
       " '5 : 3',\n",
       " '5 : 4',\n",
       " '5 : 5',\n",
       " '5 : 6',\n",
       " '6 : 1',\n",
       " '6 : 2',\n",
       " '6 : 3',\n",
       " '6 : 4',\n",
       " '6 : 5',\n",
       " '6 : 6'}"
      ]
     },
     "execution_count": 5,
     "metadata": {},
     "output_type": "execute_result"
    }
   ],
   "source": [
    "#E\n",
    "dice = set(str(d1) + \" : \" + str(d2) for d1 in range(1,7) for d2 in range(1,7))\n",
    "dice"
   ]
  },
  {
   "cell_type": "markdown",
   "metadata": {},
   "source": [
    "## 04 Solution part 2"
   ]
  },
  {
   "cell_type": "code",
   "execution_count": 110,
   "metadata": {},
   "outputs": [
    {
     "data": {
      "text/plain": [
       "{'Liam': 4,\n",
       " 'Noah': 4,\n",
       " 'Oliver': 6,\n",
       " 'William': 7,\n",
       " 'Elijah': 6,\n",
       " 'James': 5,\n",
       " 'Benjamin': 8,\n",
       " 'Lucas': 5,\n",
       " 'Mason': 5,\n",
       " 'Ethan': 5,\n",
       " 'Alexander': 9,\n",
       " 'Henry': 5,\n",
       " 'Jacob': 5,\n",
       " 'Michael': 7,\n",
       " 'Daniel': 6,\n",
       " 'Logan': 5,\n",
       " 'Jackson': 7,\n",
       " 'Sebastian': 9,\n",
       " 'Jack': 4,\n",
       " 'Aiden': 5,\n",
       " 'Owen': 4,\n",
       " 'Samuel': 6,\n",
       " 'Matthew': 7,\n",
       " 'Joseph': 6,\n",
       " 'Levi': 4,\n",
       " 'Mateo': 5,\n",
       " 'David': 5,\n",
       " 'John': 4,\n",
       " 'Wyatt': 5,\n",
       " 'Carter': 6,\n",
       " 'Julian': 6,\n",
       " 'Luke': 4,\n",
       " 'Grayson': 7,\n",
       " 'Isaac': 5,\n",
       " 'Jayden': 6,\n",
       " 'Theodore': 8,\n",
       " 'Gabriel': 7,\n",
       " 'Anthony': 7,\n",
       " 'Dylan': 5,\n",
       " 'Leo': 3}"
      ]
     },
     "execution_count": 110,
     "metadata": {},
     "output_type": "execute_result"
    }
   ],
   "source": [
    "#A\n",
    "dict({str(n): len(n) for n in names})"
   ]
  },
  {
   "cell_type": "code",
   "execution_count": 7,
   "metadata": {
    "scrolled": true
   },
   "outputs": [
    {
     "data": {
      "text/plain": [
       "{18: 324,\n",
       " 41: 1681,\n",
       " 144: 12,\n",
       " 65: 4225,\n",
       " 34: 1156,\n",
       " 2: 4,\n",
       " 4489: 67,\n",
       " 88: 7744,\n",
       " 3025: 55,\n",
       " 32: 1024,\n",
       " 15129: 123,\n",
       " 5776: 76,\n",
       " 7569: 87}"
      ]
     },
     "execution_count": 7,
     "metadata": {},
     "output_type": "execute_result"
    }
   ],
   "source": [
    "#B\n",
    "num = list([18,41,12,65,34,2,67,88,55,32,123,76,87,12])\n",
    "dict({n,n**2} for n in num)"
   ]
  },
  {
   "cell_type": "markdown",
   "metadata": {},
   "source": [
    "## 05 Solution part 3"
   ]
  },
  {
   "cell_type": "code",
   "execution_count": 145,
   "metadata": {
    "scrolled": true
   },
   "outputs": [
    {
     "data": {
      "text/plain": [
       "{'11': 2.7777777777777777,\n",
       " '12': 5.555555555555555,\n",
       " '13': 5.555555555555555,\n",
       " '14': 5.555555555555555,\n",
       " '15': 5.555555555555555,\n",
       " '16': 5.555555555555555,\n",
       " '22': 2.7777777777777777,\n",
       " '23': 5.555555555555555,\n",
       " '24': 5.555555555555555,\n",
       " '25': 5.555555555555555,\n",
       " '26': 5.555555555555555,\n",
       " '33': 2.7777777777777777,\n",
       " '34': 5.555555555555555,\n",
       " '35': 5.555555555555555,\n",
       " '36': 5.555555555555555,\n",
       " '44': 2.7777777777777777,\n",
       " '45': 5.555555555555555,\n",
       " '46': 5.555555555555555,\n",
       " '55': 2.7777777777777777,\n",
       " '56': 5.555555555555555,\n",
       " '66': 2.7777777777777777}"
      ]
     },
     "execution_count": 145,
     "metadata": {},
     "output_type": "execute_result"
    }
   ],
   "source": [
    "l = list([str(n)+str(x) for n in range(1,7) for x in range(1,7)])\n",
    "dicti = dict() \n",
    "\n",
    "for n in l: \n",
    "    dicti[n] = 1/36*100\n",
    "    for x in l: \n",
    "        if n == x[::-1] and n != x: \n",
    "            dicti[n] += 1/36*100\n",
    "            if n > x: del dicti[n]\n",
    "dicti           "
   ]
  },
  {
   "cell_type": "code",
   "execution_count": 142,
   "metadata": {},
   "outputs": [
    {
     "name": "stdout",
     "output_type": "stream",
     "text": [
      "0\n",
      "2.7777777777777777\n",
      "8.333333333333332\n",
      "13.888888888888888\n",
      "19.444444444444443\n",
      "25.0\n",
      "30.555555555555557\n",
      "33.333333333333336\n",
      "38.88888888888889\n",
      "44.44444444444445\n",
      "50.00000000000001\n",
      "55.555555555555564\n",
      "58.33333333333334\n",
      "63.8888888888889\n",
      "69.44444444444446\n",
      "75.00000000000001\n",
      "77.77777777777779\n",
      "83.33333333333334\n",
      "88.8888888888889\n",
      "91.66666666666667\n",
      "97.22222222222223\n"
     ]
    },
    {
     "data": {
      "text/plain": [
       "100.0"
      ]
     },
     "execution_count": 142,
     "metadata": {},
     "output_type": "execute_result"
    }
   ],
   "source": [
    "x = 0\n",
    "for i in dicti:\n",
    "    print(x)\n",
    "    x += float(dicti[i])\n",
    "    \n",
    "x"
   ]
  },
  {
   "cell_type": "code",
   "execution_count": 60,
   "metadata": {
    "scrolled": true
   },
   "outputs": [
    {
     "name": "stdout",
     "output_type": "stream",
     "text": [
      "{'11': 2.7777777777777777, '12': 5.555555555555555, '13': 5.555555555555555, '14': 5.555555555555555, '15': 5.555555555555555, '16': 5.555555555555555, '22': 2.7777777777777777, '23': 5.555555555555555, '24': 5.555555555555555, '25': 5.555555555555555, '26': 5.555555555555555, '33': 2.7777777777777777, '34': 5.555555555555555, '35': 5.555555555555555, '36': 5.555555555555555, '44': 2.7777777777777777, '45': 5.555555555555555, '46': 5.555555555555555, '55': 2.7777777777777777, '56': 5.555555555555555, '66': 2.7777777777777777}\n"
     ]
    }
   ],
   "source": [
    "combs = []\n",
    "for n in dice:\n",
    "    val = n.split(\" : \")\n",
    "    if val[0] > val[1]:\n",
    "        combs.append(val[1] + val[0])\n",
    "    else:\n",
    "        combs.append(val[0] + val[1])\n",
    "combs.sort()  \n",
    "\n",
    "pre = \"\"\n",
    "stats = dict()\n",
    "for c in combs:\n",
    "    if pre == c:\n",
    "        stats[c] = stats[c] * 2\n",
    "    else:\n",
    "        stats[c] = 1/36*100\n",
    "    pre = c\n",
    "print(stats)"
   ]
  },
  {
   "cell_type": "code",
   "execution_count": 66,
   "metadata": {},
   "outputs": [
    {
     "data": {
      "text/plain": [
       "{8: 13.88888888888889,\n",
       " 10: 8.333333333333332,\n",
       " 4: 8.333333333333332,\n",
       " 7: 16.666666666666668,\n",
       " 12: 2.7777777777777777,\n",
       " 9: 11.11111111111111,\n",
       " 6: 13.88888888888889,\n",
       " 3: 5.555555555555555,\n",
       " 5: 11.11111111111111,\n",
       " 2: 2.7777777777777777,\n",
       " 11: 5.555555555555555}"
      ]
     },
     "execution_count": 66,
     "metadata": {},
     "output_type": "execute_result"
    }
   ],
   "source": [
    "# print(dice)\n",
    "d = dict()\n",
    "for s in dice:\n",
    "    key = int(s.split(\" : \")[0]) + int(s.split(\" : \")[1])\n",
    "    if key in d.keys():\n",
    "        d[key] += 1/36*100\n",
    "    else:\n",
    "        d[key] = 1/36*100\n",
    "\n",
    "d"
   ]
  }
 ],
 "metadata": {
  "kernelspec": {
   "display_name": "Python 3",
   "language": "python",
   "name": "python3"
  },
  "language_info": {
   "codemirror_mode": {
    "name": "ipython",
    "version": 3
   },
   "file_extension": ".py",
   "mimetype": "text/x-python",
   "name": "python",
   "nbconvert_exporter": "python",
   "pygments_lexer": "ipython3",
   "version": "3.7.6"
  }
 },
 "nbformat": 4,
 "nbformat_minor": 4
}
