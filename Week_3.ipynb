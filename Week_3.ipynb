{
 "cells": [
  {
   "cell_type": "markdown",
   "metadata": {},
   "source": [
    "# Exercise for the 3rd course week\n",
    "\n",
    "## Ex 1 Classes\n",
    "1. Create 3 classes: Student, DataSheet and Course\n",
    "2. A student has a data_sheet and a data_sheet has multiple courses in particular order\n",
    "3. Each course has name, classroom, teacher, ETCS and optional grade if course is taken.\n",
    "4. In Student create __init__() so that a Student can be initiated with name, gender, data_sheet and image_url\n",
    "5. In DataSheet create a method to get_grades_as_list() \n",
    "6. In student create a method: get_avg_grade()\n",
    "7. Create a function that can generate n number of students with random: name, gender, courses (from a fixed list of course names), grades, img_url\n",
    "   1. Let the function write the result to a csv file with format stud_name, course_name, teacher, ects, classroom, grade, img_url\n",
    "7. Read student data into a list of Students from a csv file: \n",
    "   1. loop through the list and print each student with name, img_url and avg_grade.\n",
    "   2. sort the list by avg_grade\n",
    "   3. create a bar chart with student_name on x and avg_grade on y-axis\n",
    "8. Make a method on Student class that can show progression of the study in % (add up ECTS from all passed courses divided by total of 150 total points (equivalent to 5 semesters))\n",
    "9. Show a bar chart of distribution of study progression on x-axis and number of students in each category on y-axis. (e.g. make 10 categories from 0-100%)\n",
    "\n",
    "Extra: Make the Datasheet class iterable so that next(data_sheet) will return the next course in the list\n",
    "\n",
    "## Ex 2 Exceptions (extra)\n",
    "1. Create a function that can take a list of students and return the 3 students closest to completing their study.\n",
    "2. If list is shorter than 3 raise your own custom exception (NotEnoughStudentsException)\n",
    "3. Create another function that can create a csv file with 3 students closest to completion\n",
    "   1. If an exception is raised write an appropriate message to the file\n",
    "\n",
    "## Ex 3 Plotting (extra)\n",
    "1. Create a function that can take a list of students and show a pie chart of how students are distributed in ECTS percentage categories (10%, 20%, ...)\n",
    "2. create a function that can take a list of students and show how many students have taken each course (bar chart)\n",
    "   1. create a method on student that can return a list of courses\n",
    "3. make the figure show males and females in different colors for each course (display 2 datasets in same figure)"
   ]
  },
  {
   "cell_type": "markdown",
   "metadata": {},
   "source": [
    "# Ex 1 Classes"
   ]
  },
  {
   "cell_type": "code",
   "execution_count": 1,
   "metadata": {},
   "outputs": [],
   "source": [
    "from modules.Week3 import student\n",
    "student.make_students(50)"
   ]
  },
  {
   "cell_type": "code",
   "execution_count": 2,
   "metadata": {},
   "outputs": [
    {
     "name": "stdout",
     "output_type": "stream",
     "text": [
      "[' 10', ' None', ' 10', ' None', ' None', ' 2', ' None', ' 4', ' None', ' None', ' 12', ' None', ' 10', ' 2', ' 10']\n",
      "2.6666666666666665\n"
     ]
    }
   ],
   "source": [
    "students = student.read_students(False)\n",
    "print(students[0].data_sheet.get_grades())\n",
    "print(students[0].get_avg_grade())"
   ]
  },
  {
   "cell_type": "code",
   "execution_count": 3,
   "metadata": {},
   "outputs": [
    {
     "name": "stdout",
     "output_type": "stream",
     "text": [
      "Felisha 2.6666666666666665\n",
      "Ulrick 3.0\n",
      "Leodora 3.0\n",
      "Flory 3.0\n",
      "Siouxie 3.25\n",
      "Selena 3.2857142857142856\n",
      "Gertrudis 3.3333333333333335\n",
      "Cynthia 3.4\n",
      "Nels 3.5\n",
      "Minetta 3.5\n",
      "Simon 3.5\n",
      "Far 3.5714285714285716\n",
      "Myriam 3.7142857142857144\n",
      "Ryley 3.75\n",
      "Cart 3.75\n",
      "Arlie 3.75\n",
      "Guy 3.8\n",
      "Leland 3.8333333333333335\n",
      "Roshelle 4.0\n",
      "Tim 4.0\n",
      "Donielle 4.166666666666667\n",
      "Aloin 4.2\n",
      "Kiley 4.25\n",
      "Aleda 4.25\n",
      "Julita 4.333333333333333\n",
      "Barthel 4.333333333333333\n",
      "Maurene 4.333333333333333\n",
      "Northrup 4.333333333333333\n",
      "Dane 4.5\n",
      "Melisent 4.5\n",
      "Minerva 4.714285714285714\n",
      "Morris 4.75\n",
      "Drucy 4.8\n",
      "Nomi 5.0\n",
      "Emmit 5.0\n",
      "Norine 5.0\n",
      "Sherlock 5.0\n",
      "Guilbert 5.0\n",
      "Nomi 5.0\n",
      "Flory 5.0\n",
      "Valene 5.0\n",
      "Evonne 5.2\n",
      "Damien 5.333333333333333\n",
      "Jennilee 5.428571428571429\n",
      "Phil 5.5\n",
      "Palm 5.75\n",
      "Wendel 6.0\n",
      "Care 6.25\n",
      "Cyndi 7.0\n",
      "Thorn 7.0\n"
     ]
    }
   ],
   "source": [
    "for stud in students: print(stud.name, stud.get_avg_grade())"
   ]
  },
  {
   "cell_type": "code",
   "execution_count": 4,
   "metadata": {},
   "outputs": [
    {
     "data": {
      "image/png": "[encoded data removed]",
      "text/plain": [
       "<Figure size 432x288 with 1 Axes>"
      ]
     },
     "metadata": {
      "needs_background": "light"
     },
     "output_type": "display_data"
    }
   ],
   "source": [
    "import matplotlib.pyplot as plt\n",
    "studs = [{s.name, s.get_avg_grade()} for s in students]\n",
    "fig = plt.figure()\n",
    "\n",
    "ax = fig.add_axes([0,0,1,1])\n",
    "grades = [s.get_avg_grade() for s in students]\n",
    "stud_names = [s.name for s in students]\n",
    "ax.bar(stud_names, grades)\n",
    "\n",
    "plt.show()"
   ]
  },
  {
   "cell_type": "code",
   "execution_count": 5,
   "metadata": {},
   "outputs": [
    {
     "name": "stdout",
     "output_type": "stream",
     "text": [
      "53.333333333333336%\n"
     ]
    }
   ],
   "source": [
    "print(str(students[0].get_progression()) + '%')"
   ]
  },
  {
   "cell_type": "code",
   "execution_count": 6,
   "metadata": {},
   "outputs": [
    {
     "data": {
      "image/png": "[encoded data removed]",
      "text/plain": [
       "<Figure size 432x288 with 1 Axes>"
      ]
     },
     "metadata": {
      "needs_background": "light"
     },
     "output_type": "display_data"
    }
   ],
   "source": [
    "studs = [stud.get_progression() for stud in students]\n",
    "\n",
    "procent = [0,10,20,30,40,50,60,70,80,90,100]\n",
    "\n",
    "plt.hist(studs, procent, histtype='bar', rwidth=0.8)\n",
    "\n",
    "plt.xlabel('Progression in %')\n",
    "plt.ylabel('Number of students')\n",
    "plt.title('Studen progression')\n",
    "plt.show()"
   ]
  },
  {
   "cell_type": "markdown",
   "metadata": {},
   "source": [
    "# Ex 3"
   ]
  },
  {
   "cell_type": "code",
   "execution_count": 7,
   "metadata": {},
   "outputs": [
    {
     "data": {
      "image/png": "[encoded data removed]",
      "text/plain": [
       "<Figure size 432x288 with 1 Axes>"
      ]
     },
     "metadata": {},
     "output_type": "display_data"
    }
   ],
   "source": [
    "def make_char(students_arr):\n",
    "    procent = [0,10,20,30,40,50,60,70,80,90,100]\n",
    "    res = [0 for v in range(len(procent))]\n",
    "    for stud in students_arr:\n",
    "       res[int(stud.get_progression() / 10)] +=1 \n",
    "    \n",
    "    labels = [i * 10 for i in range(len(procent)) if res[i] != 0]\n",
    "    sizes = [r for r in res if r != 0]\n",
    "    fig1, ax1 = plt.subplots()\n",
    "    ax1.pie(sizes, labels=labels, autopct='%1.1f%%',\n",
    "        shadow=True)\n",
    "    ax1.axis('equal')  # Equal aspect ratio ensures that pie is drawn as a circle.\n",
    "    plt.show()\n",
    "\n",
    "\n",
    "make_char(students)"
   ]
  }
 ],
 "metadata": {
  "kernelspec": {
   "display_name": "Python 3",
   "language": "python",
   "name": "python3"
  },
  "language_info": {
   "codemirror_mode": {
    "name": "ipython",
    "version": 3
   },
   "file_extension": ".py",
   "mimetype": "text/x-python",
   "name": "python",
   "nbconvert_exporter": "python",
   "pygments_lexer": "ipython3",
   "version": "3.7.6"
  }
 },
 "nbformat": 4,
 "nbformat_minor": 4
}
